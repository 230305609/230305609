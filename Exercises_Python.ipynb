{
  "nbformat": 4,
  "nbformat_minor": 0,
  "metadata": {
    "colab": {
      "provenance": [],
      "include_colab_link": true
    },
    "kernelspec": {
      "name": "python3",
      "display_name": "Python 3"
    }
  },
  "cells": [
    {
      "cell_type": "markdown",
      "metadata": {
        "id": "view-in-github",
        "colab_type": "text"
      },
      "source": [
        "<a href=\"https://colab.research.google.com/github/230305609/230305609/blob/main/Exercises_Python.ipynb\" target=\"_parent\"><img src=\"https://colab.research.google.com/assets/colab-badge.svg\" alt=\"Open In Colab\"/></a>"
      ]
    },
    {
      "cell_type": "markdown",
      "metadata": {
        "id": "WVVl3onBO1gX"
      },
      "source": [
        "## Exercícios de Estruturas de Repetições, Strings e Listas"
      ]
    },
    {
      "cell_type": "markdown",
      "metadata": {
        "id": "TMu19CSXPL_c"
      },
      "source": [
        "1 - Verificar se a lista abaixo contém o termo 'known_variants' e em qual posição index da lista ele se encontra.\n"
      ]
    },
    {
      "cell_type": "code",
      "metadata": {
        "id": "_KB3IU1HSThL",
        "colab": {
          "base_uri": "https://localhost:8080/"
        },
        "outputId": "12bb5d1a-558c-44cf-ece7-61158c521cb9"
      },
      "source": [
        "lista = ['1000genomes', 'AAChange', 'BA1', 'BA1_message', 'BA1_strength', 'BP1', 'BP1_message', 'BP1_strength', 'BP2', 'BP2_message', 'BP2_strength', 'BP3', 'BP3_message', 'BP3_strength', 'BP4', 'BP4_message', 'BP4_strength', 'BP5', 'BP5_message', 'BP5_strength', 'BP6', 'BP6_message', 'BP6_strength', 'BP7', 'BP7_message', 'BP7_strength', 'BS1', 'BS1_message', 'BS1_strength', 'BS2', 'BS2_message', 'BS2_strength', 'BS3', 'BS3_message', 'BS3_strength', 'BS4', 'BS4_message', 'BS4_strength', 'CLINVAR', 'EXAC65000', 'ExonicFunc', 'Func', 'Gene', 'PM1', 'PM1_message', 'PM1_strength', 'PM2', 'PM2_message', 'PM2_strength', 'PM3', 'PM3_message', 'PM3_strength', 'PM4', 'PM4_message', 'PM4_strength', 'PM5', 'PM5_message', 'PM5_strength', 'PM6', 'PM6_message', 'PM6_strength', 'PP1', 'PP1_message', 'PP1_strength', 'PP2', 'PP2_message', 'PP2_strength', 'PP3', 'PP3_message', 'PP3_strength', 'PP4', 'PP4_message', 'PP4_strength', 'PP5', 'PP5_message', 'PP5_strength', 'PS1', 'PS1_message', 'PS1_strength', 'PS2', 'PS2_message', 'PS2_strength', 'PS3', 'PS3_message', 'PS3_strength', 'PS4', 'PS4_message', 'PS4_strength', 'PVS1', 'PVS1_message', 'PVS1_strength', 'aachange_refgene', 'abraom_allele_alt_count', 'abraom_allele_number', 'abraom_frequencies', 'abraom_hemizygous', 'abraom_homozygousalt', 'allele_frequency', 'alt', 'alternate_forward', 'alternate_reverse', 'augAll', 'cadd_phred', 'cadd_raw', 'cadd_raw_rankscore', 'chromosome', 'chromosome_ord', 'class_from_db', 'classification', 'clinsig', 'clnalleleid', 'clndisdb', 'clndn', 'clnrevstat', 'clnsigconf', 'clnvariationid', 'coding_change', 'cosmic70', 'dann_rankscore', 'dann_score', 'dbsc_ada', 'dbsc_rf', 'dbsnp', 'dpsi_max_tissue', 'dpsi_zscore', 'eigen_coding_or_noncoding', 'eigen_pc_raw', 'eigen_raw', 'end', 'esp', 'exac_afr', 'exac_all', 'exac_amr', 'exac_eas', 'exac_fin', 'exac_nfe', 'exac_oth', 'exac_sas', 'exon', 'exonic_func_refgene', 'fathmm_coding_pred', 'fathmm_coding_score', 'fathmm_converted_rankscore', 'fathmm_mkl_coding_rankscore', 'fathmm_pred', 'fathmm_score', 'func_refgene', 'gene_detail_refgene', 'gene_refgene', 'genocanyon_score', 'genocanyon_score_rankscore', 'genomic_super_dups', 'gerp', 'gerp_rs_rankscore', 'gnomad_exome_afr', 'gnomad_exome_all', 'gnomad_exome_amr', 'gnomad_exome_asj', 'gnomad_exome_eas', 'gnomad_exome_fin', 'gnomad_exome_nfe', 'gnomad_exome_oth', 'gnomad_exome_sas', 'gnomad_genome_afr', 'gnomad_genome_all', 'gnomad_genome_amr', 'gnomad_genome_asj', 'gnomad_genome_eas', 'gnomad_genome_fin', 'gnomad_genome_nfe', 'gnomad_genome_oth', 'gtex_v6_gene', 'gtex_v6_tissue', 'hgvs', 'hrc_ac', 'hrc_af', 'hrc_an', 'hrc_non1000g_ac', 'hrc_non1000g_af', 'hrc_non1000g_an', 'icgc_id', 'icgc_occurrence', 'indel_known', 'integrated_confidence_value', 'integrated_fitCons_score', 'integrated_fitcons_score_rankscore', 'interpro_domain', 'intervar_automated', 'kaviar_ac', 'kaviar_af', 'kaviar_an', 'known_variants', 'lrg', 'lrt_converted_rankscore', 'lrt_pred', 'lrt_score', 'm_cap_pred', 'm_cap_rankscore', 'm_cap_score', 'met_rules', 'meta_lr_pred', 'meta_lr_score', 'meta_svm_pred', 'meta_svm_score', 'metalr_rankscore', 'metasvm_rankscore', 'mutation_assessor_pred', 'mutation_assessor_score', 'mutation_assessor_score_rankscore', 'mutation_taster_converted_rankscore', 'mutation_taster_pred', 'mutation_taster_score', 'mutpred_rankscore', 'mutpred_score', 'mycancergenome', 'omim_genemap2', 'oncogene', 'oncokb', 'pfam', 'pharmgkb', 'phast_20', 'phastcons100way_vertebrate', 'phastcons100way_vertebrate_rankscore', 'phastcons20way_mammalian_rankscore', 'phyio_p20', 'phylop100way_vertebrate', 'phylop100way_vertebrate_rankscore', 'phylop20way_mammalian_rankscore', 'polyphen2_hdiv_pred', 'polyphen2_hdiv_rankscore', 'polyphen2_hdiv_score', 'polyphen2_hvar_pred', 'polyphen2_hvar_rankscore', 'polyphen2_hvar_score', 'protein_change', 'provean_converted_rankscore', 'provean_pred', 'provean_score', 'read_depth', 'ref', 'reference_forward', 'reference_reverse', 'regsnp_disease', 'regsnp_fpr', 'regsnp_splicing_site', 'repeat_masker', 'repetitive_region_length', 'revel_rankscore', 'revel_score', 'sift_converted_rankscore', 'sift_pred', 'sift_score', 'siphy', 'siphy_29way_logodds_rankscore', 'snp138', 'start', 'strand_bias', 'total_mt_depth', 'transcript', 'tumor_suppressor_gene', 'uniprot', 'vaf_max', 'vaf_mean', 'vaf_median', 'vaf_min', 'vaf_sample_count', 'vaf_std', 'varcall', 'varcall_count', 'variant_mt_fraction', 'vcf_alt', 'vcf_chromosome', 'vcf_filter', 'vcf_format_keys', 'vcf_format_values', 'vcf_id', 'vcf_info', 'vcf_pos', 'vcf_qual', 'vcf_ref', 'vest', 'vest3_rankscore', 'wg_encode_broad_hmm_gm12878hmm', 'zygosity']\n",
        "#se 'a variante known_variants' em lista\n",
        "if 'known_variants' in lista:\n",
        "  index = lista.index('known_variants')\n",
        "  #se encontrar o index vai imprimir\n",
        "  print(index) \n"
      ],
      "execution_count": null,
      "outputs": [
        {
          "output_type": "stream",
          "name": "stdout",
          "text": [
            "191\n"
          ]
        }
      ]
    },
    {
      "cell_type": "markdown",
      "metadata": {
        "id": "tUxgWtZAesSv"
      },
      "source": [
        "2 - Na string abaixo, retornar a frase que será formada pela janela de : [59, 60 incluso], espaço, [109,114 excluso], [134,136 incluso]"
      ]
    },
    {
      "cell_type": "code",
      "metadata": {
        "id": "EnfaYXbqeSfS",
        "colab": {
          "base_uri": "https://localhost:8080/",
          "height": 35
        },
        "outputId": "9cfd4ba5-a433-404f-da02-6e7d64aec298"
      },
      "source": [
        "string = 'HumptyDumptysatonawallHumptyDumptyhadagreatYbagdsttydmmftujVcfallAlltheKingshorsesandalltheKingsmenCouldntputConseHumptyDumptyinhisplagueceagainapple'\n",
        "# se não funcionar com S utilizar o nome da lista, como fizemos agora\n",
        "#incluso aumentar 1, excluso não midificar\n",
        "string[59:61]+(' ')+string[109:114]+string[134:137] \n",
        "  \n",
        "\n"
      ],
      "execution_count": null,
      "outputs": [
        {
          "output_type": "execute_result",
          "data": {
            "text/plain": [
              "'Vc Consegue'"
            ],
            "application/vnd.google.colaboratory.intrinsic+json": {
              "type": "string"
            }
          },
          "metadata": {},
          "execution_count": 49
        }
      ]
    },
    {
      "cell_type": "markdown",
      "metadata": {
        "id": "Q4RpMUaDhI1b"
      },
      "source": [
        "3- Na sequencia genetica abaixo, mostrar quantas vezes apareceu o consensus do promotor eucariotico TATA box (TATAAA)"
      ]
    },
    {
      "cell_type": "code",
      "metadata": {
        "id": "VUAtjxv5jfSe",
        "colab": {
          "base_uri": "https://localhost:8080/"
        },
        "outputId": "6f2a9bdf-9948-4c43-83bb-931bed39b7dd"
      },
      "source": [
        "sequencia = 'TTCATACTTGGTTAAGACCTTTACAAGCCGACCAACGTGGTGACAGTGTCGTCCTTTA' \\\n",
        "'CGCACCGAATCCCTTTATCATTGAATTAGTAGAAGAGCGATACTTAGGACGTCTTCGG' \\\n",
        "'ATGGAATCTTGGTCCCGTTGCCTGGAACGTCTTGAAACTGAATTCCCGCCAGAAGATG' \\\n",
        "'TTCATACTTGGTTAAGACCTTTACAAGCCGACCAACGTGGTGACAGTGTCGTCCTTTA' \\\n",
        "'CGCACCGAATCCCTTTATCATTGAATTAGTAGAAGAGCGATACTTAGGACGTCTTCGG' \\\n",
        "'GAATTGTTATCCTATTTCTCAGGAATACGTGAAGTAGTCCTTGCAATTGGCTCACGAC' \\\n",
        "'CTAAAACAACAGAACTACCCGTACCAGTAGACACTACAGGACGTTTGTCTTCAACAGT' \\\n",
        "'CCCATTTAACGGAAATCTCGACACACACTATAACTTTGATAATTTTGTTGAGGGACGA' \\\n",
        "'AGCAATCAACTCGCTCGTGCTGCAGCTTGGCAAGCGGCACAGAAACCGGGAGACCGTA' \\\n",
        "'CTCACAACCCTCTATTGCTCTATGGTGGGACTGGTTTGGGTAAAACCCATTTAATGTT' \\\n",
        "'TGCTGCAGGTAACGTAATGCGGCAAGTAAACCCAACTTATAAAGTAATGTATCTTCGT' \\\n",
        "'TCGGAACAGTTTTTCAGCGCCATGATAAGAGCGTACAAGATAAAAGTATGGATCATAA' \\\n",
        "'GGGTAAAACCCATTTAATGTTTGCTGCAGGTAACGTAATGCGGCAAGTAAACCCAACT' \\\n",
        "'TATAAAGTAATGTATCTTCGTTCGGAACAGTTTTTCAGCGCCATGATAAGAGCGTACA' \\\n",
        "'AGATAAAAGTATGGATCATAAGGGTAAAACCCATTTAATGTTTGCTGCAGGTAACGTA' \\\n",
        "'ATGCGGCAAGTAAACCCAACTTATAAAGTAATGTATCTTCGTTCGGAACAGTTTTTCA' \\\n",
        "'GCGCCATGATAAGAGCGTACAAGATAAAAGTATGGATCATAAAACGTAATGCGGCAAG' \\\n",
        "'TAAACCCAACTTATAAAGTAATGTATCTTCGTTCGGAACAGGGTAAAACCCATTTAAT' \\\n",
        "'GTTTGCTGCAGGTAACGTAATGCGGCAAGTAAACCCAACTTATAAAGTAATGTATCTT' \\\n",
        "'CGTTCGGAACAGTTTTTCAGCGCCATGATAAGAGCGTACAAGATAAAAGTATGGATCA' \\\n",
        "'TAAAACGTAATGCGGCAAGTAAACCCAACTTATAAAGTAATGTATCTTCGTTCGGAAC' \\\n",
        "'AAAAACGTAATGCGGCAAGTAAACCCAACTTATAAAGTAATGTATCTTCGTTCGGAAC'\n",
        "\n",
        "#sei que e uma string pq começou e terminou com '', agora vamos ver quantas vezes apareceu o consensus do promotor eucariotico TATA box (TATAAA)\n",
        "sequencia.count('TATAAA')"
      ],
      "execution_count": null,
      "outputs": [
        {
          "output_type": "execute_result",
          "data": {
            "text/plain": [
              "7"
            ]
          },
          "metadata": {},
          "execution_count": 74
        }
      ]
    },
    {
      "cell_type": "markdown",
      "metadata": {
        "id": "fJ8sKxnEklDL"
      },
      "source": [
        "4- Utilizando a lista abaixo, ordenar em order crescente os número e imprimir os primeiros 5 números."
      ]
    },
    {
      "cell_type": "code",
      "metadata": {
        "id": "4cYeuYB_k9Rp",
        "colab": {
          "base_uri": "https://localhost:8080/"
        },
        "outputId": "c6901a24-b59d-4dbd-af07-74e5ba52cce1"
      },
      "source": [
        "lista = [53,13,156,104,25,38,39,650,225,143,879,125,182,129,611,404,795,14,7,133,52,741,369,46,528,496,27,346,277,218,100,189,1]\n",
        "\n",
        "#sort coloca em ordem crescente, colocando em ordem crescente\n",
        "lista.sort()\n",
        "#imprimindo os 5 primeiros numeros \n",
        "lista[:5]"
      ],
      "execution_count": null,
      "outputs": [
        {
          "output_type": "execute_result",
          "data": {
            "text/plain": [
              "[1, 7, 13, 14, 25]"
            ]
          },
          "metadata": {},
          "execution_count": 2
        }
      ]
    },
    {
      "cell_type": "markdown",
      "metadata": {
        "id": "4i1iMw0ylagU"
      },
      "source": [
        "5- Utilizando a lista abaixo, ordernar em ordem decrescente e imprimir os 5 números finais."
      ]
    },
    {
      "cell_type": "code",
      "metadata": {
        "id": "slpdignyl1Fn",
        "colab": {
          "base_uri": "https://localhost:8080/"
        },
        "outputId": "bc4b368c-cb47-49c3-8274-fefb4d0bd636"
      },
      "source": [
        "lista = [53,13,156,104,25,38,39,650,225,143,879,125,182,129,611,404,795,14,7,133,52,741,369,46,528,496,27,346,277,218,100,189,1]\n",
        "\n",
        "# colocando em ordem descrecente\n",
        "lista.sort(reverse=True)\n",
        "# imprimindo os 5 numeros finais\n",
        "lista[-5:]\n"
      ],
      "execution_count": null,
      "outputs": [
        {
          "output_type": "execute_result",
          "data": {
            "text/plain": [
              "[25, 14, 13, 7, 1]"
            ]
          },
          "metadata": {},
          "execution_count": 3
        }
      ]
    },
    {
      "cell_type": "markdown",
      "metadata": {
        "id": "Opu8ZpbTmWdw"
      },
      "source": [
        "6 - Utilizando a estrutura WHILE, imprimir os elementos da lista até encontrar a entrada 'Gene'. Imprimir, inclusive a entrada 'Gene' - DESAFIO"
      ]
    },
    {
      "cell_type": "code",
      "metadata": {
        "id": "hSehDRsAouNM"
      },
      "source": [
        "lista = ['1000genomes', 'AAChange', 'BA1', 'BA1_message', 'BA1_strength', 'BP1', 'BP1_message', 'BP1_strength', 'BP2', 'BP2_message', 'BP2_strength', 'BP3', 'BP3_message', 'BP3_strength', 'BP4', 'BP4_message', 'BP4_strength', 'BP5', 'BP5_message', 'BP5_strength', 'BP6', 'BP6_message', 'BP6_strength', 'BP7', 'BP7_message', 'BP7_strength', 'BS1', 'BS1_message', 'BS1_strength', 'BS2', 'BS2_message', 'BS2_strength', 'BS3', 'BS3_message', 'BS3_strength', 'BS4', 'BS4_message', 'BS4_strength', 'CLINVAR', 'EXAC65000', 'ExonicFunc', 'Func', 'Gene', 'PM1', 'PM1_message', 'PM1_strength', 'PM2', 'PM2_message', 'PM2_strength', 'PM3', 'PM3_message', 'PM3_strength', 'PM4', 'PM4_message', 'PM4_strength', 'PM5', 'PM5_message', 'PM5_strength', 'PM6', 'PM6_message', 'PM6_strength', 'PP1', 'PP1_message', 'PP1_strength', 'PP2', 'PP2_message', 'PP2_strength', 'PP3', 'PP3_message', 'PP3_strength', 'PP4', 'PP4_message', 'PP4_strength', 'PP5', 'PP5_message', 'PP5_strength', 'PS1', 'PS1_message', 'PS1_strength', 'PS2', 'PS2_message', 'PS2_strength', 'PS3', 'PS3_message', 'PS3_strength', 'PS4', 'PS4_message', 'PS4_strength', 'PVS1', 'PVS1_message', 'PVS1_strength', 'aachange_refgene', 'abraom_allele_alt_count', 'abraom_allele_number', 'abraom_frequencies', 'abraom_hemizygous', 'abraom_homozygousalt', 'allele_frequency', 'alt', 'alternate_forward', 'alternate_reverse', 'augAll', 'cadd_phred', 'cadd_raw', 'cadd_raw_rankscore', 'chromosome', 'chromosome_ord', 'class_from_db', 'classification', 'clinsig', 'clnalleleid', 'clndisdb', 'clndn', 'clnrevstat', 'clnsigconf', 'clnvariationid', 'coding_change', 'cosmic70', 'dann_rankscore', 'dann_score', 'dbsc_ada', 'dbsc_rf', 'dbsnp', 'dpsi_max_tissue', 'dpsi_zscore', 'eigen_coding_or_noncoding', 'eigen_pc_raw', 'eigen_raw', 'end', 'esp', 'exac_afr', 'exac_all', 'exac_amr', 'exac_eas', 'exac_fin', 'exac_nfe', 'exac_oth', 'exac_sas', 'exon', 'exonic_func_refgene', 'fathmm_coding_pred', 'fathmm_coding_score', 'fathmm_converted_rankscore', 'fathmm_mkl_coding_rankscore', 'fathmm_pred', 'fathmm_score', 'func_refgene', 'gene_detail_refgene', 'gene_refgene', 'genocanyon_score', 'genocanyon_score_rankscore', 'genomic_super_dups', 'gerp', 'gerp_rs_rankscore', 'gnomad_exome_afr', 'gnomad_exome_all', 'gnomad_exome_amr', 'gnomad_exome_asj', 'gnomad_exome_eas', 'gnomad_exome_fin', 'gnomad_exome_nfe', 'gnomad_exome_oth', 'gnomad_exome_sas', 'gnomad_genome_afr', 'gnomad_genome_all', 'gnomad_genome_amr', 'gnomad_genome_asj', 'gnomad_genome_eas', 'gnomad_genome_fin', 'gnomad_genome_nfe', 'gnomad_genome_oth', 'gtex_v6_gene', 'gtex_v6_tissue', 'hgvs', 'hrc_ac', 'hrc_af', 'hrc_an', 'hrc_non1000g_ac', 'hrc_non1000g_af', 'hrc_non1000g_an', 'icgc_id', 'icgc_occurrence', 'indel_known', 'integrated_confidence_value', 'integrated_fitCons_score', 'integrated_fitcons_score_rankscore', 'interpro_domain', 'intervar_automated', 'kaviar_ac', 'kaviar_af', 'kaviar_an', 'known_variants', 'lrg', 'lrt_converted_rankscore', 'lrt_pred', 'lrt_score', 'm_cap_pred', 'm_cap_rankscore', 'm_cap_score', 'met_rules', 'meta_lr_pred', 'meta_lr_score', 'meta_svm_pred', 'meta_svm_score', 'metalr_rankscore', 'metasvm_rankscore', 'mutation_assessor_pred', 'mutation_assessor_score', 'mutation_assessor_score_rankscore', 'mutation_taster_converted_rankscore', 'mutation_taster_pred', 'mutation_taster_score', 'mutpred_rankscore', 'mutpred_score', 'mycancergenome', 'omim_genemap2', 'oncogene', 'oncokb', 'pfam', 'pharmgkb', 'phast_20', 'phastcons100way_vertebrate', 'phastcons100way_vertebrate_rankscore', 'phastcons20way_mammalian_rankscore', 'phyio_p20', 'phylop100way_vertebrate', 'phylop100way_vertebrate_rankscore', 'phylop20way_mammalian_rankscore', 'polyphen2_hdiv_pred', 'polyphen2_hdiv_rankscore', 'polyphen2_hdiv_score', 'polyphen2_hvar_pred', 'polyphen2_hvar_rankscore', 'polyphen2_hvar_score', 'protein_change', 'provean_converted_rankscore', 'provean_pred', 'provean_score', 'read_depth', 'ref', 'reference_forward', 'reference_reverse', 'regsnp_disease', 'regsnp_fpr', 'regsnp_splicing_site', 'repeat_masker', 'repetitive_region_length', 'revel_rankscore', 'revel_score', 'sift_converted_rankscore', 'sift_pred', 'sift_score', 'siphy', 'siphy_29way_logodds_rankscore', 'snp138', 'start', 'strand_bias', 'total_mt_depth', 'transcript', 'tumor_suppressor_gene', 'uniprot', 'vaf_max', 'vaf_mean', 'vaf_median', 'vaf_min', 'vaf_sample_count', 'vaf_std', 'varcall', 'varcall_count', 'variant_mt_fraction', 'vcf_alt', 'vcf_chromosome', 'vcf_filter', 'vcf_format_keys', 'vcf_format_values', 'vcf_id', 'vcf_info', 'vcf_pos', 'vcf_qual', 'vcf_ref', 'vest', 'vest3_rankscore', 'wg_encode_broad_hmm_gm12878hmm', 'zygosity']\n",
        "# Dica, utilizar um contador \n"
      ],
      "execution_count": null,
      "outputs": []
    },
    {
      "cell_type": "markdown",
      "metadata": {
        "id": "xdxTK7upLMnG"
      },
      "source": [
        "7 - Sabemos que o DNA possui 6 quadros de leitura.  Na sequencia fasta abaixo, imprima os 3 quadros dessa fita. (Sem considerar a fita reversa) - \"MEGA\" Desafio (https://cdn.kastatic.org/ka-perseus-images/ed3bfd85b8ec88f74515e63649b9dcd5c976e21e.png)\n"
      ]
    },
    {
      "cell_type": "code",
      "metadata": {
        "id": "PzAmcmVZLCvY",
        "colab": {
          "base_uri": "https://localhost:8080/"
        },
        "outputId": "ea818556-8709-422c-b2e6-e984d138524a"
      },
      "source": [
        "fasta = 'AATTGTCGATGCTAGCTTACTATCGTACTGACTGATCGTGACTGCGTACGTAGTCTCGTGTACGTAGTCTAGC'\n",
        "\n",
        "print(fasta[:15])\n",
        "print(fasta[17:32])\n",
        "print(fasta[34:49])"
      ],
      "execution_count": null,
      "outputs": [
        {
          "output_type": "stream",
          "name": "stdout",
          "text": [
            "AATTGTCGATGCTAG\n",
            "TACTATCGTACTGAC\n",
            "ATCGTGACTGCGTAC\n"
          ]
        }
      ]
    }
  ]
}